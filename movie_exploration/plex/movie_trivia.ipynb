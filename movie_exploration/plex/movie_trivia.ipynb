{
 "cells": [
  {
   "cell_type": "code",
   "execution_count": null,
   "metadata": {},
   "outputs": [],
   "source": [
    "from random import randint\n",
    "from plexapi.myplex import MyPlexAccount"
   ]
  },
  {
   "cell_type": "code",
   "execution_count": null,
   "metadata": {},
   "outputs": [],
   "source": [
    "# Credentials\n",
    "account = MyPlexAccount('yadingus', 'N7PJgLYhg')\n",
    "plex = account.resource('spergmaster').connect()\n",
    "\n",
    "# Get movies from Plex server\n",
    "movies = plex.library.section('Movies').search()\n",
    "num = len(movies)"
   ]
  },
  {
   "cell_type": "code",
   "execution_count": 2,
   "metadata": {},
   "outputs": [],
   "source": [
    "def trivia_question():\n",
    "    \n",
    "    # Randomly select film\n",
    "    film_id = randint(num-1)\n",
    "    \n",
    "    # Display summary\n",
    "    print(movies[film_id].summary)\n",
    "    \n",
    "    # Get guess and compare\n",
    "    guess = raw_input(\"What's the film?\")\n",
    "    print(guess)"
   ]
  },
  {
   "cell_type": "code",
   "execution_count": null,
   "metadata": {},
   "outputs": [],
   "source": []
  }
 ],
 "metadata": {
  "kernelspec": {
   "display_name": "Python 3",
   "language": "python",
   "name": "python3"
  },
  "language_info": {
   "codemirror_mode": {
    "name": "ipython",
    "version": 3
   },
   "file_extension": ".py",
   "mimetype": "text/x-python",
   "name": "python",
   "nbconvert_exporter": "python",
   "pygments_lexer": "ipython3",
   "version": "3.7.1"
  }
 },
 "nbformat": 4,
 "nbformat_minor": 2
}
