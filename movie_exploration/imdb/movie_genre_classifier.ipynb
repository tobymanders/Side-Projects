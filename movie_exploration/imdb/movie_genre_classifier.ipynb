{
 "cells": [
  {
   "cell_type": "markdown",
   "metadata": {},
   "source": [
    "# Multinomial Naive Bayes Genre Classification for Movie Plots\n",
    "This notebook gathers the plots and genres for films from a list of ~1700 movies using the OMDB API for IMDB. It then uses the frequency of words in those plots to construct a genre classifier, and tests the results on a set of unseen films.\n",
    "\n",
    "Note: You will need an OMDB API key, and the request limit per day appears to be ~1700-2000.\n",
    "\n",
    "(Toby Manders 2019)"
   ]
  },
  {
   "cell_type": "code",
   "execution_count": 1,
   "metadata": {},
   "outputs": [],
   "source": [
    "import omdb\n",
    "import requests\n",
    "from random import randint\n",
    "import string\n",
    "import numpy as np\n",
    "from collections import Counter\n",
    "import csv\n",
    "import os\n",
    "import matplotlib.pyplot as plt"
   ]
  },
  {
   "cell_type": "code",
   "execution_count": null,
   "metadata": {},
   "outputs": [],
   "source": [
    "# NOTE: REPLACE WITH YOUR OWN API KEY FROM OMDB.\n",
    "api_key = os.environ.get('OMDB_KEY')"
   ]
  },
  {
   "cell_type": "code",
   "execution_count": 3,
   "metadata": {},
   "outputs": [
    {
     "name": "stdout",
     "output_type": "stream",
     "text": [
      "['tt1711425', 'tt1343727', 'tt2024544', 'tt1272878', 'tt0453562', 'tt1335975', 'tt1606378', 'tt2194499', 'tt1814621', 'tt1815862', 'tt1800241', 'tt1322269', 'tt1559547', 'tt2334873', 'tt1535109', 'tt1939659', 'tt1985966', 'tt1690953', 'tt2229499', 'tt1535108'] ...\n",
      "1794\n"
     ]
    }
   ],
   "source": [
    "# Load list of films.\n",
    "imdb_ids = []\n",
    "with open('movies_big.csv', encoding = \"ISO-8859-1\") as csv_file:\n",
    "    reader = csv.reader(csv_file)\n",
    "    next(reader)\n",
    "    for row in reader:\n",
    "        imdb_ids.append(row[1])\n",
    "print(imdb_ids[:20], '...')\n",
    "print(len(imdb_ids))"
   ]
  },
  {
   "cell_type": "code",
   "execution_count": 4,
   "metadata": {},
   "outputs": [],
   "source": [
    "# Function for normalizing strings.\n",
    "def normalize(s):\n",
    "    for p in string.punctuation:\n",
    "        s = s.replace(p, '')\n",
    "\n",
    "    return s.lower().strip()"
   ]
  },
  {
   "cell_type": "code",
   "execution_count": 6,
   "metadata": {},
   "outputs": [
    {
     "name": "stdout",
     "output_type": "stream",
     "text": [
      "['comedy', 'action', 'crime', 'scifi', 'biography', 'drama', 'history', 'thriller', 'sport', 'adventure', 'fantasy', 'romance', 'horror', 'animation', 'family', 'mystery', 'musical', 'music', 'war', 'western', 'documentary', 'news']\n"
     ]
    }
   ],
   "source": [
    "# API call for each film, extracting genres and plots\n",
    "genres = []\n",
    "genre_and_plot = []\n",
    "n = 1000 # Use first n films to build CPTs\n",
    "for film in range(n):\n",
    "    url = ('http://www.omdbapi.com/?apikey=' + api_key + '&i=' + imdb_ids[film] + '&plot=full')\n",
    "    r = requests.get(url)\n",
    "    movie_dicts = r.json()\n",
    "    try:\n",
    "        filmgenres = normalize(movie_dicts['Genre']).split(' ')\n",
    "    except:\n",
    "        continue\n",
    "    for genre in filmgenres:\n",
    "        if genre not in genres:\n",
    "            genres.append(genre)\n",
    "    \n",
    "    # Store plot text and genre\n",
    "    plot = movie_dicts['Plot']\n",
    "    plot = normalize(plot)\n",
    "    genre_and_plot.append((filmgenres, plot))\n",
    "print(genres)"
   ]
  },
  {
   "cell_type": "code",
   "execution_count": 7,
   "metadata": {},
   "outputs": [
    {
     "name": "stdout",
     "output_type": "stream",
     "text": [
      "total plot length:  113299\n",
      "vocabulary size (d):  14529\n"
     ]
    }
   ],
   "source": [
    "all_plots = []\n",
    "for film in genre_and_plot:\n",
    "    all_plots.extend(film[1].split(' '))\n",
    "vocabulary = set(all_plots)\n",
    "vocab_list = list(vocabulary)\n",
    "vocabulary_size = len(vocabulary)\n",
    "plot_length = len(all_plots)\n",
    "print('total plot length: ', plot_length)\n",
    "print('vocabulary size (d): ', vocabulary_size)"
   ]
  },
  {
   "cell_type": "code",
   "execution_count": 8,
   "metadata": {},
   "outputs": [
    {
     "name": "stdout",
     "output_type": "stream",
     "text": [
      "998\n"
     ]
    }
   ],
   "source": [
    "print(len(genre_and_plot))"
   ]
  },
  {
   "cell_type": "code",
   "execution_count": 9,
   "metadata": {},
   "outputs": [],
   "source": [
    "## Compute priors for each genre\n",
    "# p(c)\n",
    "c_counts = np.array([sum(genre in filmgenres for film in genre_and_plot) for genre in genres])\n",
    "priors = np.divide([np.float(c_count) for c_count in c_counts], n)"
   ]
  },
  {
   "cell_type": "code",
   "execution_count": 10,
   "metadata": {},
   "outputs": [
    {
     "name": "stdout",
     "output_type": "stream",
     "text": [
      "[42371, 31124, 19259, 18600, 7444, 61316, 4152, 34773, 3430, 27400, 19423, 29561, 12700, 8292, 15366, 12946, 2447, 2841, 4260, 1786, 248, 153]\n"
     ]
    }
   ],
   "source": [
    "# Compute total length of plots for each genre\n",
    "gen_lens = []\n",
    "for i, g in enumerate(genres):\n",
    "    gen_len = 0\n",
    "    for gens, plt in genre_and_plot:\n",
    "        for gen in gens:\n",
    "            if gen == g:\n",
    "                gen_len += len(plt.split(' '))\n",
    "    gen_lens.append(gen_len)\n",
    "print(gen_lens)"
   ]
  },
  {
   "cell_type": "code",
   "execution_count": null,
   "metadata": {},
   "outputs": [],
   "source": [
    "# Test the model with training films\n",
    "\n",
    "correct = 0\n",
    "inds = []\n",
    "\n",
    "for mov in range(100):\n",
    "    # Prediction\n",
    "    testplot = genre_and_plot[mov][1]\n",
    "    class_probs = np.zeros((len(genres), 1))\n",
    "    for i, genre in enumerate(genres):\n",
    "        prob = priors[i]\n",
    "        for word in testplot:\n",
    "            # find word\n",
    "            if word in vocabulary:\n",
    "                prob *= theta[i, vocab_list.index(word)]\n",
    "        class_probs[i] = prob\n",
    "    ind = np.argmax(class_probs)\n",
    "    inds.append(ind)\n",
    "    actual_genres = genre_and_plot[mov][0]\n",
    "    if genres[ind] in actual_genres:\n",
    "        correct += 1\n",
    "    print(f\"Prediction: {genres[ind]},    Actual: {actual_genres}\")\n",
    "accuracy = (correct / 100)*100\n",
    "print(f\"Training Accuracy: {accuracy}%\")\n",
    "        "
   ]
  },
  {
   "cell_type": "code",
   "execution_count": 66,
   "metadata": {},
   "outputs": [
    {
     "name": "stdout",
     "output_type": "stream",
     "text": [
      "The Shining        Predicted:  drama         Actual:  drama, horror\n",
      "Beverly Hills Cop III        Predicted:  drama         Actual:  action, comedy, crime, thriller\n",
      "Body Double        Predicted:  drama         Actual:  mystery, thriller\n",
      "Set It Off        Predicted:  drama         Actual:  action, crime, drama, romance, thriller\n",
      "Pretty Woman        Predicted:  drama         Actual:  comedy, romance\n",
      "The Age of Innocence        Predicted:  drama         Actual:  drama, romance\n",
      "The Fast and the Furious        Predicted:  comedy         Actual:  action, crime, thriller\n",
      "Se7en        Predicted:  drama         Actual:  crime, drama, mystery, thriller\n",
      "Chain Reaction        Predicted:  comedy         Actual:  action, drama, scifi, thriller\n",
      "The Fugitive        Predicted:  drama         Actual:  action, crime, drama, mystery, thriller\n",
      "Wild Things        Predicted:  drama         Actual:  crime, drama, mystery, thriller\n",
      "Terminator 3: Rise of the Machines        Predicted:  drama         Actual:  action, scifi\n",
      "The Cell        Predicted:  drama         Actual:  horror, scifi, thriller\n",
      "Star Trek III: The Search for Spock        Predicted:  comedy         Actual:  action, adventure, scifi\n",
      "Mona Lisa Smile        Predicted:  drama         Actual:  drama\n",
      "Mortal Kombat: Annihilation        Predicted:  drama         Actual:  action, adventure, fantasy, scifi, thriller\n",
      "Spy Kids 2: Island of Lost Dreams        Predicted:  comedy         Actual:  action, adventure, comedy, family, scifi\n",
      "Monsoon Wedding        Predicted:  comedy         Actual:  comedy, drama, romance\n",
      "Miss Congeniality        Predicted:  drama         Actual:  action, comedy, crime, romance\n",
      "Timecop        Predicted:  drama         Actual:  action, crime, scifi, thriller\n",
      "The Silence of the Lambs        Predicted:  drama         Actual:  crime, drama, thriller\n",
      "Friday the 13th: The Final Chapter        Predicted:  drama         Actual:  horror, thriller\n",
      "8 Women        Predicted:  drama         Actual:  comedy, crime, musical, romance\n",
      "Dune        Predicted:  drama         Actual:  action, adventure, scifi\n",
      "The Matrix Revolutions        Predicted:  drama         Actual:  action, scifi\n",
      "Kingpin        Predicted:  romance         Actual:  comedy, sport\n",
      "Stepmom        Predicted:  drama         Actual:  comedy, drama\n",
      "Star Trek VI: The Undiscovered Country        Predicted:  drama         Actual:  action, adventure, scifi, thriller\n",
      "Superman        Predicted:  drama         Actual:  action, adventure, drama, scifi\n",
      "Pretty Woman        Predicted:  drama         Actual:  comedy, romance\n",
      "Beauty and the Beast        Predicted:  drama         Actual:  animation, family, fantasy, musical, romance\n",
      "Set It Off        Predicted:  drama         Actual:  action, crime, drama, romance, thriller\n",
      "My Big Fat Greek Wedding        Predicted:  drama         Actual:  comedy, drama, romance\n",
      "Casino        Predicted:  drama         Actual:  crime, drama\n",
      "Freeway        Predicted:  drama         Actual:  comedy, crime, drama, thriller\n",
      "Ghost        Predicted:  drama         Actual:  drama, fantasy, romance, thriller\n",
      "Street Fighter        Predicted:  comedy         Actual:  action, adventure, comedy, thriller\n",
      "The Land Before Time        Predicted:  comedy         Actual:  animation, adventure, drama, family\n",
      "Bend It Like Beckham        Predicted:  drama         Actual:  comedy, drama, romance, sport\n",
      "Dead Poets Society        Predicted:  romance         Actual:  comedy, drama\n",
      "American Pie        Predicted:  comedy         Actual:  comedy\n",
      "Final Destination 2        Predicted:  drama         Actual:  horror, thriller\n",
      "The Postman        Predicted:  drama         Actual:  action, adventure, drama, scifi\n",
      "Star Trek V: The Final Frontier        Predicted:  drama         Actual:  action, adventure, fantasy, scifi, thriller\n",
      "Star Trek II: The Wrath of Khan        Predicted:  comedy         Actual:  action, adventure, scifi\n",
      "Animal House        Predicted:  drama         Actual:  comedy\n",
      "Boys Don't Cry        Predicted:  drama         Actual:  biography, crime, drama, romance\n",
      "Peter Pan        Predicted:  drama         Actual:  adventure, family, fantasy, romance\n",
      "Assassins        Predicted:  drama         Actual:  action, crime, thriller\n",
      "Grease        Predicted:  comedy         Actual:  musical, romance\n",
      "Six Days Seven Nights        Predicted:  comedy         Actual:  action, adventure, comedy, romance\n",
      "Boogie Nights        Predicted:  drama         Actual:  drama\n",
      "Spun        Predicted:  comedy         Actual:  comedy, crime, drama\n",
      "Beverly Hills Cop        Predicted:  drama         Actual:  action, comedy, crime\n",
      "Tank Girl        Predicted:  drama         Actual:  action, comedy, scifi\n",
      "Pokémon: The First Movie - Mewtwo Strikes Back        Predicted:  comedy         Actual:  animation, action, adventure, family, fantasy, scifi, sport\n",
      "Escape from the Planet of the Apes        Predicted:  drama         Actual:  action, scifi\n",
      "For Love of the Game        Predicted:  drama         Actual:  drama, romance, sport\n",
      "The Naked Gun 2½: The Smell of Fear        Predicted:  comedy         Actual:  comedy, crime\n",
      "Copycat        Predicted:  drama         Actual:  drama, mystery, thriller\n",
      "Body Double        Predicted:  drama         Actual:  mystery, thriller\n",
      "Close Encounters of the Third Kind        Predicted:  drama         Actual:  drama, scifi\n",
      "Fight Club        Predicted:  drama         Actual:  drama\n",
      "The Devil's Advocate        Predicted:  comedy         Actual:  drama, mystery, thriller\n",
      "May        Predicted:  drama         Actual:  drama, horror\n",
      "Eyes Wide Shut        Predicted:  drama         Actual:  drama, mystery, thriller\n",
      "Friday the 13th: The Final Chapter        Predicted:  drama         Actual:  horror, thriller\n",
      "Poltergeist        Predicted:  drama         Actual:  horror, thriller\n",
      "Final Destination 2        Predicted:  drama         Actual:  horror, thriller\n",
      "Fatal Attraction        Predicted:  drama         Actual:  drama, thriller\n",
      "Road House        Predicted:  drama         Actual:  action, thriller\n",
      "Sleepy Hollow        Predicted:  drama         Actual:  fantasy, horror, mystery\n",
      "The Age of Innocence        Predicted:  drama         Actual:  drama, romance\n",
      "Tarzan        Predicted:  drama         Actual:  animation, adventure, family, romance\n",
      "Little Voice        Predicted:  drama         Actual:  comedy, drama, music, romance\n",
      "The Emperor's New Groove        Predicted:  drama         Actual:  animation, adventure, comedy, family, fantasy\n",
      "Friday the 13th Part 2        Predicted:  comedy         Actual:  horror, mystery, thriller\n",
      "All or Nothing        Predicted:  drama         Actual:  drama\n",
      "The Majestic        Predicted:  drama         Actual:  drama, romance\n",
      "Casino        Predicted:  drama         Actual:  crime, drama\n",
      "Saving Grace        Predicted:  drama         Actual:  comedy, crime\n",
      "Harry Potter and the Chamber of Secrets        Predicted:  drama         Actual:  adventure, family, fantasy, mystery\n",
      "The Fifth Element        Predicted:  comedy         Actual:  action, adventure, scifi\n",
      "The Hunt for Red October        Predicted:  drama         Actual:  action, adventure, thriller\n",
      "Logan's Run        Predicted:  comedy         Actual:  action, scifi\n",
      "The 13th Warrior        Predicted:  drama         Actual:  action, adventure, history\n",
      "Wayne's World        Predicted:  comedy         Actual:  comedy, music\n",
      "The Quick and the Dead        Predicted:  drama         Actual:  action, romance, thriller, western\n",
      "Girl, Interrupted        Predicted:  drama         Actual:  biography, drama\n",
      "Evolution        Predicted:  drama         Actual:  comedy, scifi\n",
      "Beverly Hills Cop III        Predicted:  drama         Actual:  action, comedy, crime, thriller\n",
      "Payback        Predicted:  drama         Actual:  action, crime, drama, thriller\n",
      "The Jungle Book 2: Mowgli's Reunion        Predicted:  comedy         Actual:  animation, adventure, family, musical\n",
      "Die Hard        Predicted:  drama         Actual:  action, thriller\n",
      "The Last Temptation of Christ        Predicted:  drama         Actual:  drama\n",
      "The Blues Brothers        Predicted:  drama         Actual:  adventure, comedy, crime, musical\n",
      "A Beautiful Mind        Predicted:  drama         Actual:  biography, drama\n",
      "Mercury Rising        Predicted:  drama         Actual:  action, crime, drama, thriller\n"
     ]
    },
    {
     "name": "stdout",
     "output_type": "stream",
     "text": [
      "Anastasia        Predicted:  drama         Actual:  animation, adventure, drama, family, fantasy, musical, mystery, romance\n",
      "El Mariachi        Predicted:  comedy         Actual:  action, crime, thriller\n",
      "\n",
      "Accuracy: 45.0%\n"
     ]
    }
   ],
   "source": [
    "# Test the model with unseen films\n",
    "\n",
    "number_of_films = len(imdb_ids)\n",
    "num_to_test = 100\n",
    "correct = 0\n",
    "inds = []\n",
    "agenres = []\n",
    "\n",
    "for i in range(num_to_test):\n",
    "    # New film for testing\n",
    "    random_film_id = randint(n, number_of_films)\n",
    "    movie_id = imdb_ids[random_film_id]\n",
    "\n",
    "    # API call for the film.\n",
    "    url = ('http://www.omdbapi.com/?apikey=a6a6cd3d&i=' + movie_id)\n",
    "    r = requests.get(url)\n",
    "    movie_dicts = r.json()\n",
    "\n",
    "    # Prediction\n",
    "    testplot = normalize(movie_dicts['Plot']).split(' ')\n",
    "    class_probs = np.zeros((len(genres), 1))\n",
    "    for i, genre in enumerate(genres):\n",
    "        prob = priors[i]\n",
    "        for word in testplot:\n",
    "            # find word\n",
    "            if word in vocabulary:\n",
    "                prob *= theta[i, vocab_list.index(word)]\n",
    "        class_probs[i] = prob\n",
    "    ind = np.argmax(class_probs)\n",
    "    inds.append(ind)\n",
    "    actual_genres = normalize(movie_dicts['Genre']).split(' ')\n",
    "    agenres.extend(actual_genres)\n",
    "    if genres[ind] in actual_genres:\n",
    "        correct += 1\n",
    "    print(movie_dicts['Title'], '       Predicted: ', genres[ind], '        Actual: ', ', '.join(actual_genres))\n",
    "    \n",
    "accuracy = (correct / num_to_test)*100\n",
    "print()\n",
    "print(f\"Accuracy: {accuracy}%\")\n",
    "        "
   ]
  },
  {
   "cell_type": "code",
   "execution_count": 11,
   "metadata": {},
   "outputs": [
    {
     "name": "stdout",
     "output_type": "stream",
     "text": [
      "(22, 14529)\n"
     ]
    }
   ],
   "source": [
    "# Count word appearances and compute CPT\n",
    "theta = np.zeros((len(genres), vocabulary_size))\n",
    "for i, genre in enumerate(genres):\n",
    "    word_count = Counter()\n",
    "    for gens, plt in genre_and_plot:\n",
    "        for gen in gens:\n",
    "            if gen == genre:\n",
    "                for word in plt.split(' '):\n",
    "                    word_count[word] += 1\n",
    "    for j, w in enumerate(vocabulary):\n",
    "        numerator = word_count[w] + 1\n",
    "        denom = gen_lens[i] + vocabulary_size\n",
    "        theta[i, j] = np.divide(numerator, denom)\n",
    "print(theta.shape)"
   ]
  },
  {
   "cell_type": "code",
   "execution_count": 68,
   "metadata": {},
   "outputs": [
    {
     "data": {
      "image/png": "[encoded data removed]",
      "text/plain": [
       "<Figure size 432x288 with 2 Axes>"
      ]
     },
     "metadata": {
      "needs_background": "light"
     },
     "output_type": "display_data"
    }
   ],
   "source": [
    "counts = Counter(inds)\n",
    "hist = {}\n",
    "for i, g in enumerate(genres):\n",
    "    hist[g] = counts[i]\n",
    "plt.subplot(1, 2, 1)\n",
    "plt.bar(range(len(hist)), list(hist.values()), align='center')\n",
    "plt.xticks(range(len(hist)), list(hist.keys()), rotation='vertical')\n",
    "plt.title('Predictions')\n",
    "\n",
    "gcount = Counter(agenres)\n",
    "h = {}\n",
    "for ge in genres:\n",
    "    h[ge] = gcount[ge]\n",
    "plt.subplot(1, 2, 2)\n",
    "plt.bar(range(len(h)), list(h.values()), align='center')\n",
    "plt.xticks(range(len(h)), list(h.keys()), rotation='vertical')\n",
    "plt.title('Actuals')\n",
    "\n",
    "plt.show()"
   ]
  },
  {
   "cell_type": "code",
   "execution_count": 69,
   "metadata": {},
   "outputs": [],
   "source": [
    "num_genres = len(genres)\n",
    "mean_theta = np.mean(theta, axis=0).reshape(1, vocabulary_size)\n",
    "std_theta = np.std(theta, axis=0).reshape(1, vocabulary_size)\n",
    "m = np.tile(mean_theta, (num_genres, 1))\n",
    "s = np.tile(std_theta, (num_genres, 1))\n",
    "f = np.divide(np.subtract(theta, m), s)\n",
    "# std_theta = np.divide(theta, std_theta)"
   ]
  },
  {
   "cell_type": "code",
   "execution_count": 73,
   "metadata": {},
   "outputs": [
    {
     "name": "stdout",
     "output_type": "stream",
     "text": [
      "MOST UNIQUE WORDS\n",
      "comedy : unaware\n",
      "action : superhero\n",
      "crime : cody\n",
      "scifi : project\n",
      "biography : hughes\n",
      "drama : amir\n",
      "history : charged\n",
      "thriller : safety\n",
      "sport : bliss\n",
      "adventure : toby\n",
      "fantasy : witch\n",
      "romance : couples\n",
      "horror : shelter\n",
      "animation : homer\n",
      "family : greg\n",
      "mystery : mystery\n",
      "musical : sherrie\n",
      "music : pierre\n",
      "war : liesel\n",
      "western : lawmen\n",
      "documentary : rape\n",
      "news : capitalism\n",
      "\n",
      "LEAST LIKELY WORDS\n",
      "comedy : disappears\n",
      "action : nice\n",
      "crime : passed\n",
      "scifi : suburb\n",
      "biography : middle\n",
      "drama : amount\n",
      "history : need\n",
      "thriller : primary\n",
      "sport : days\n",
      "adventure : design\n",
      "fantasy : shell\n",
      "romance : pitch\n",
      "horror : putting\n",
      "animation : rest\n",
      "family : trick\n",
      "mystery : sense\n",
      "musical : face\n",
      "music : every\n",
      "war : owner\n",
      "western : every\n",
      "documentary : takes\n",
      "news : takes\n"
     ]
    }
   ],
   "source": [
    "# Find the words that are most uniquely associated with each genre, and the ones least likely for a genre\n",
    "print('MOST UNIQUE WORDS')\n",
    "ind = np.argmax(f, axis=1)\n",
    "for i, j in enumerate(ind):\n",
    "    print(genres[i], ':', vocab_list[j])\n",
    "\n",
    "print('\\nLEAST LIKELY WORDS')\n",
    "minind = np.argmin(f, axis=1)\n",
    "for i, j in enumerate(minind):\n",
    "    print(genres[i], ':', vocab_list[j])"
   ]
  },
  {
   "cell_type": "code",
   "execution_count": null,
   "metadata": {},
   "outputs": [],
   "source": []
  },
  {
   "cell_type": "code",
   "execution_count": null,
   "metadata": {},
   "outputs": [],
   "source": []
  }
 ],
 "metadata": {
  "kernelspec": {
   "display_name": "Python 3",
   "language": "python",
   "name": "python3"
  },
  "language_info": {
   "codemirror_mode": {
    "name": "ipython",
    "version": 3
   },
   "file_extension": ".py",
   "mimetype": "text/x-python",
   "name": "python",
   "nbconvert_exporter": "python",
   "pygments_lexer": "ipython3",
   "version": "3.7.2"
  }
 },
 "nbformat": 4,
 "nbformat_minor": 2
}
